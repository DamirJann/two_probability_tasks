{
 "cells": [
  {
   "cell_type": "code",
   "execution_count": 2,
   "metadata": {},
   "outputs": [],
   "source": [
    "import matplotlib.pyplot as plt\n",
    "import pandas as pd\n",
    "import numpy as np\n",
    "import csv\n",
    "import scipy.stats  \n",
    "from matplotlib import ticker"
   ]
  },
  {
   "cell_type": "code",
   "execution_count": 3,
   "metadata": {
    "pycharm": {
     "name": "#%%\n"
    }
   },
   "outputs": [],
   "source": [
    "f = open(\"X:\\\\Всячина\\\\Математика\\\\Типовик_Статистика\\\\array4.csv\",'r')\n",
    "f.readline()\n",
    "with f as File:\n",
    "    reader = csv.reader(File)\n",
    "    for row in reader:\n",
    "        sample = pd.Series(row, dtype=float)\n",
    "\n",
    "sample.name = 'sample'"
   ]
  },
  {
   "cell_type": "code",
   "execution_count": 4,
   "metadata": {
    "pycharm": {
     "name": "#%%\n"
    }
   },
   "outputs": [
    {
     "name": "stdout",
     "output_type": "stream",
     "text": [
      "Нам досталась выборка размером 1000 элементов\n",
      "Отсортируем элементы по значению:\n",
      "\n",
      "[-6.29 2.36 -3.73 ... -1.63 -2.09 -2.93]\n"
     ]
    }
   ],
   "source": [
    "print(\"Нам досталась выборка размером 1000 элементов\")\n",
    "print(\"Отсортируем элементы по значению:\\n\")\n",
    "\n",
    "print(\"[\", end = '')\n",
    "for i in range(0,3):\n",
    "    print(sample.values[i], end = \" \")\n",
    "print(\"...\", end = ' ')\n",
    "for i in range(997,999):\n",
    "    print(sample.values[i], end = \" \")\n",
    "print(sample.values[999],end='')\n",
    "print(\"]\")"
   ]
  },
  {
   "cell_type": "code",
   "execution_count": 39,
   "metadata": {
    "pycharm": {
     "name": "#%%\n"
    }
   },
   "outputs": [
    {
     "name": "stdout",
     "output_type": "stream",
     "text": [
      "Найдём выборочную дисперсию(S), исправленную и выборочное среднее(E):\n",
      "\n",
      "E = -1.4191899999999975\n",
      "S = 7.6057176438999905\n",
      "S_несм = 7.598119524375615\n"
     ]
    }
   ],
   "source": [
    "sum = 0\n",
    "n = 1000\n",
    "for i in sample.values:\n",
    "    sum += i\n",
    "E = sum/1000\n",
    "deviation = 0\n",
    "for i in sample.values:\n",
    "    deviation += (i-E)**2\n",
    "S = deviation/1000\n",
    "S_unbiased = (1000/(1001.0))*S\n",
    "print(\"Найдём выборочную дисперсию(S), исправленную и выборочное среднее(E):\\n\")\n",
    "print(\"E =\", E)\n",
    "print(\"S =\", S)\n",
    "print(\"S_несм =\", S_unbiased)"
   ]
  },
  {
   "cell_type": "code",
   "execution_count": 40,
   "metadata": {
    "pycharm": {
     "name": "#%%\n"
    }
   },
   "outputs": [
    {
     "data": {
      "image/png": "[encoded data removed]",
      "text/plain": [
       "<Figure size 432x288 with 1 Axes>"
      ]
     },
     "metadata": {
      "needs_background": "light"
     },
     "output_type": "display_data"
    }
   ],
   "source": [
    "fig, ax = plt.subplots()\n",
    "ax.hist(sample, bins = 20, density=True)\n",
    "ax.plot(np.linspace(-11,8,1000), scipy.stats.norm.pdf(np.linspace(-11,8,1000),E,S**0.5), color='r')\n",
    "plt.show()"
   ]
  },
  {
   "cell_type": "code",
   "execution_count": null,
   "metadata": {
    "pycharm": {
     "name": "#%%\n"
    }
   },
   "outputs": [],
   "source": []
  },
  {
   "cell_type": "code",
   "execution_count": 94,
   "metadata": {
    "scrolled": true
   },
   "outputs": [],
   "source": [
    "a = 0.95\n",
    "c = scipy.stats.norm.ppf((a+1)/2)\n",
    "l = E-(S_unbiased*c*(n**0.5))/n\n",
    "r = E+(S_unbiased*c*(n**0.5))/n"
   ]
  },
  {
   "cell_type": "code",
   "execution_count": 95,
   "metadata": {},
   "outputs": [
    {
     "name": "stdout",
     "output_type": "stream",
     "text": [
      "-1.890117673606428 -0.948262326393567\n"
     ]
    }
   ],
   "source": [
    "print(l, r)"
   ]
  },
  {
   "cell_type": "code",
   "execution_count": 153,
   "metadata": {
    "scrolled": false
   },
   "outputs": [
    {
     "data": {
      "image/png": "[encoded data removed]",
      "text/plain": [
       "<Figure size 1440x720 with 1 Axes>"
      ]
     },
     "metadata": {
      "needs_background": "light"
     },
     "output_type": "display_data"
    }
   ],
   "source": [
    "fig, ax = plt.subplots(figsize=(20,10))\n",
    "x = np.arange(0.05,0.99, 0.05)\n",
    "y = []\n",
    "for i in x:\n",
    "    c = scipy.stats.norm.ppf((i+1)/2)\n",
    "    y.append(E-(S_unbiased*c*(n**0.5))/n)\n",
    "    r = E+(S_unbiased*c*(n**0.5))/n\n",
    "#     ax.scatter(i, l, c = 'r')\n",
    "#     ax.scatter(i, r, c = 'r')\n",
    "#     ax.plot([i]*100, np.linspace(l,r,100), c = 'b')\n",
    "\n",
    "ax.scatter(x, y, c = 'r', label = '+/- c')\n",
    "\n",
    "y = []\n",
    "for i in x:\n",
    "    c = scipy.stats.norm.ppf((i+1)/2)\n",
    "    y.append(E+(S_unbiased*c*(n**0.5))/n)\n",
    "    r = E+(S_unbiased*c*(n**0.5))/n\n",
    "\n",
    "ax.scatter(x, y, c = 'r')\n",
    "ax.plot(np.linspace(0, 1, 100), [E]*100, 'b--')\n",
    "ax.legend()\n",
    "ax.set_xlabel('Вероятность')\n",
    "plt.xticks(ticks = np.arange(0, 1, 0.05))\n",
    "plt.show()"
   ]
  },
  {
   "cell_type": "code",
   "execution_count": null,
   "metadata": {},
   "outputs": [],
   "source": []
  },
  {
   "cell_type": "code",
   "execution_count": 12,
   "metadata": {},
   "outputs": [
    {
     "data": {
      "text/html": [
       "<div>\n",
       "<style scoped>\n",
       "    .dataframe tbody tr th:only-of-type {\n",
       "        vertical-align: middle;\n",
       "    }\n",
       "\n",
       "    .dataframe tbody tr th {\n",
       "        vertical-align: top;\n",
       "    }\n",
       "\n",
       "    .dataframe thead th {\n",
       "        text-align: right;\n",
       "    }\n",
       "</style>\n",
       "<table border=\"1\" class=\"dataframe\">\n",
       "  <thead>\n",
       "    <tr style=\"text-align: right;\">\n",
       "      <th></th>\n",
       "      <th>sample</th>\n",
       "    </tr>\n",
       "  </thead>\n",
       "  <tbody>\n",
       "    <tr>\n",
       "      <th>0</th>\n",
       "      <td>998.780</td>\n",
       "    </tr>\n",
       "    <tr>\n",
       "      <th>1</th>\n",
       "      <td>985.382</td>\n",
       "    </tr>\n",
       "    <tr>\n",
       "      <th>2</th>\n",
       "      <td>1007.763</td>\n",
       "    </tr>\n",
       "    <tr>\n",
       "      <th>3</th>\n",
       "      <td>989.559</td>\n",
       "    </tr>\n",
       "    <tr>\n",
       "      <th>4</th>\n",
       "      <td>1010.907</td>\n",
       "    </tr>\n",
       "    <tr>\n",
       "      <th>...</th>\n",
       "      <td>...</td>\n",
       "    </tr>\n",
       "    <tr>\n",
       "      <th>9995</th>\n",
       "      <td>985.670</td>\n",
       "    </tr>\n",
       "    <tr>\n",
       "      <th>9996</th>\n",
       "      <td>1025.502</td>\n",
       "    </tr>\n",
       "    <tr>\n",
       "      <th>9997</th>\n",
       "      <td>990.772</td>\n",
       "    </tr>\n",
       "    <tr>\n",
       "      <th>9998</th>\n",
       "      <td>1006.769</td>\n",
       "    </tr>\n",
       "    <tr>\n",
       "      <th>9999</th>\n",
       "      <td>1008.489</td>\n",
       "    </tr>\n",
       "  </tbody>\n",
       "</table>\n",
       "<p>10000 rows × 1 columns</p>\n",
       "</div>"
      ],
      "text/plain": [
       "        sample\n",
       "0      998.780\n",
       "1      985.382\n",
       "2     1007.763\n",
       "3      989.559\n",
       "4     1010.907\n",
       "...        ...\n",
       "9995   985.670\n",
       "9996  1025.502\n",
       "9997   990.772\n",
       "9998  1006.769\n",
       "9999  1008.489\n",
       "\n",
       "[10000 rows x 1 columns]"
      ]
     },
     "execution_count": 12,
     "metadata": {},
     "output_type": "execute_result"
    }
   ],
   "source": []
  },
  {
   "cell_type": "code",
   "execution_count": null,
   "metadata": {},
   "outputs": [],
   "source": []
  }
 ],
 "metadata": {
  "kernelspec": {
   "display_name": "Python 3",
   "language": "python",
   "name": "python3"
  },
  "language_info": {
   "codemirror_mode": {
    "name": "ipython",
    "version": 3
   },
   "file_extension": ".py",
   "mimetype": "text/x-python",
   "name": "python",
   "nbconvert_exporter": "python",
   "pygments_lexer": "ipython3",
   "version": "3.7.7"
  }
 },
 "nbformat": 4,
 "nbformat_minor": 1
}